{
 "cells": [
  {
   "cell_type": "markdown",
   "id": "b662ada2-7739-4e54-9ee9-e288921067c0",
   "metadata": {},
   "source": [
    "# Welcome to Numpy Learning by Implemantation"
   ]
  },
  {
   "cell_type": "code",
   "execution_count": 1,
   "id": "d7b27353-40ab-41ff-9d55-7ff970e4ab0d",
   "metadata": {},
   "outputs": [],
   "source": [
    "import numpy as np"
   ]
  },
  {
   "cell_type": "code",
   "execution_count": 2,
   "id": "ae8ead25-0fe3-4be5-aad6-f281db18f197",
   "metadata": {},
   "outputs": [],
   "source": [
    "myarr = np.array([12,24,42,19],np.int8)"
   ]
  },
  {
   "cell_type": "code",
   "execution_count": 3,
   "id": "2421a22e-3703-46b9-804a-d44e9cd7defc",
   "metadata": {},
   "outputs": [
    {
     "data": {
      "text/plain": [
       "array([12, 24, 42, 19], dtype=int8)"
      ]
     },
     "execution_count": 3,
     "metadata": {},
     "output_type": "execute_result"
    }
   ],
   "source": [
    "myarr"
   ]
  },
  {
   "cell_type": "code",
   "execution_count": 4,
   "id": "f4f73e87-0c53-41e1-851f-3ae99b39fd49",
   "metadata": {},
   "outputs": [
    {
     "data": {
      "text/plain": [
       "42"
      ]
     },
     "execution_count": 4,
     "metadata": {},
     "output_type": "execute_result"
    }
   ],
   "source": [
    "myarr[2]"
   ]
  },
  {
   "cell_type": "code",
   "execution_count": 6,
   "id": "4d2fbda6-3e61-45dd-8adb-a5f9fe314dad",
   "metadata": {},
   "outputs": [],
   "source": [
    "myarr2 = np.array([[12,24,42,19],[14,28,44,76]],np.int8)"
   ]
  },
  {
   "cell_type": "code",
   "execution_count": 9,
   "id": "65da3b69-86f1-4cbb-adf3-ed029761308e",
   "metadata": {},
   "outputs": [
    {
     "data": {
      "text/plain": [
       "42"
      ]
     },
     "execution_count": 9,
     "metadata": {},
     "output_type": "execute_result"
    }
   ],
   "source": [
    "myarr2[0][2]"
   ]
  },
  {
   "cell_type": "code",
   "execution_count": 10,
   "id": "1d863567-b84d-476c-a4b4-ae540aa9f56a",
   "metadata": {},
   "outputs": [
    {
     "data": {
      "text/plain": [
       "(2, 4)"
      ]
     },
     "execution_count": 10,
     "metadata": {},
     "output_type": "execute_result"
    }
   ],
   "source": [
    "myarr2.shape"
   ]
  },
  {
   "cell_type": "code",
   "execution_count": 11,
   "id": "ce8cb075-f026-4e4a-889c-9a2900f0d3f8",
   "metadata": {},
   "outputs": [
    {
     "data": {
      "text/plain": [
       "dtype('int8')"
      ]
     },
     "execution_count": 11,
     "metadata": {},
     "output_type": "execute_result"
    }
   ],
   "source": [
    "myarr2.dtype"
   ]
  },
  {
   "cell_type": "code",
   "execution_count": 15,
   "id": "54530569-766f-4851-9221-f921b98b8267",
   "metadata": {},
   "outputs": [
    {
     "data": {
      "text/plain": [
       "76"
      ]
     },
     "execution_count": 15,
     "metadata": {},
     "output_type": "execute_result"
    }
   ],
   "source": [
    "myarr2[1,3]"
   ]
  },
  {
   "cell_type": "code",
   "execution_count": 16,
   "id": "229de539-c36e-4f33-bbc1-2c340c223d33",
   "metadata": {},
   "outputs": [],
   "source": [
    "myarr2[1,3]=82"
   ]
  },
  {
   "cell_type": "code",
   "execution_count": 17,
   "id": "0cd736fa-3f23-48f1-97fe-3a4d5ad911dc",
   "metadata": {},
   "outputs": [
    {
     "data": {
      "text/plain": [
       "82"
      ]
     },
     "execution_count": 17,
     "metadata": {},
     "output_type": "execute_result"
    }
   ],
   "source": [
    "myarr2[1,3]"
   ]
  },
  {
   "cell_type": "code",
   "execution_count": 18,
   "id": "c1c6bbe2-b42e-4f57-8ec3-0d962a23f97f",
   "metadata": {},
   "outputs": [],
   "source": [
    "rang = np.arange(20)"
   ]
  },
  {
   "cell_type": "code",
   "execution_count": 19,
   "id": "84032abe-31ba-4610-8fa9-d450d8f4dfe4",
   "metadata": {},
   "outputs": [
    {
     "data": {
      "text/plain": [
       "array([ 0,  1,  2,  3,  4,  5,  6,  7,  8,  9, 10, 11, 12, 13, 14, 15, 16,\n",
       "       17, 18, 19])"
      ]
     },
     "execution_count": 19,
     "metadata": {},
     "output_type": "execute_result"
    }
   ],
   "source": [
    "rang"
   ]
  },
  {
   "cell_type": "code",
   "execution_count": 20,
   "id": "72e0b18a-0f49-4c48-aa77-2b623d73c025",
   "metadata": {},
   "outputs": [],
   "source": [
    "lspace = np.linspace(1,10,4)"
   ]
  },
  {
   "cell_type": "code",
   "execution_count": 21,
   "id": "0052f018-70a2-450c-8c35-c857ad20e4b2",
   "metadata": {},
   "outputs": [
    {
     "data": {
      "text/plain": [
       "array([ 1.,  4.,  7., 10.])"
      ]
     },
     "execution_count": 21,
     "metadata": {},
     "output_type": "execute_result"
    }
   ],
   "source": [
    "lspace"
   ]
  },
  {
   "cell_type": "code",
   "execution_count": 23,
   "id": "56649b13-a1a0-4475-b001-876d458a2ef0",
   "metadata": {},
   "outputs": [],
   "source": [
    "zero = np.zeros((2,5))"
   ]
  },
  {
   "cell_type": "code",
   "execution_count": 24,
   "id": "955ca19b-5acc-4648-9cf2-4e91127d62d3",
   "metadata": {},
   "outputs": [
    {
     "data": {
      "text/plain": [
       "array([[0., 0., 0., 0., 0.],\n",
       "       [0., 0., 0., 0., 0.]])"
      ]
     },
     "execution_count": 24,
     "metadata": {},
     "output_type": "execute_result"
    }
   ],
   "source": [
    "zero"
   ]
  },
  {
   "cell_type": "code",
   "execution_count": 25,
   "id": "ab2c7ea6-2a80-4df4-926b-e2f71e6d2124",
   "metadata": {},
   "outputs": [],
   "source": [
    "emp = np.empty((3,4))"
   ]
  },
  {
   "cell_type": "code",
   "execution_count": 26,
   "id": "4b5c5e06-3c61-4737-917d-3c0f86852024",
   "metadata": {},
   "outputs": [
    {
     "data": {
      "text/plain": [
       "array([[8.47591718e-312, 3.16202013e-322, 0.00000000e+000,\n",
       "        0.00000000e+000],\n",
       "       [1.01855798e-312, 4.27805397e-037, 4.47118494e-033,\n",
       "        7.56532595e-067],\n",
       "       [1.43602097e-051, 1.08589902e-042, 1.38272285e-047,\n",
       "        1.65747387e-076]])"
      ]
     },
     "execution_count": 26,
     "metadata": {},
     "output_type": "execute_result"
    }
   ],
   "source": [
    "emp"
   ]
  },
  {
   "cell_type": "code",
   "execution_count": 27,
   "id": "fca90bd5-9bd1-4313-8a6f-6dc387dcf993",
   "metadata": {},
   "outputs": [
    {
     "data": {
      "text/plain": [
       "12"
      ]
     },
     "execution_count": 27,
     "metadata": {},
     "output_type": "execute_result"
    }
   ],
   "source": [
    "emp.size"
   ]
  },
  {
   "cell_type": "code",
   "execution_count": 29,
   "id": "110afd95-f9bf-4d8f-a66b-fb0c58a9d3ce",
   "metadata": {},
   "outputs": [
    {
     "data": {
      "text/plain": [
       "(3, 4)"
      ]
     },
     "execution_count": 29,
     "metadata": {},
     "output_type": "execute_result"
    }
   ],
   "source": [
    "emp.shape"
   ]
  },
  {
   "cell_type": "code",
   "execution_count": 30,
   "id": "2e959a09-07fa-4863-8754-7d3515d60d58",
   "metadata": {},
   "outputs": [],
   "source": [
    "ide = np.identity(10)"
   ]
  },
  {
   "cell_type": "code",
   "execution_count": 31,
   "id": "ed7a95ee-dc36-4265-8aa5-477a18c10942",
   "metadata": {},
   "outputs": [
    {
     "data": {
      "text/plain": [
       "array([[1., 0., 0., 0., 0., 0., 0., 0., 0., 0.],\n",
       "       [0., 1., 0., 0., 0., 0., 0., 0., 0., 0.],\n",
       "       [0., 0., 1., 0., 0., 0., 0., 0., 0., 0.],\n",
       "       [0., 0., 0., 1., 0., 0., 0., 0., 0., 0.],\n",
       "       [0., 0., 0., 0., 1., 0., 0., 0., 0., 0.],\n",
       "       [0., 0., 0., 0., 0., 1., 0., 0., 0., 0.],\n",
       "       [0., 0., 0., 0., 0., 0., 1., 0., 0., 0.],\n",
       "       [0., 0., 0., 0., 0., 0., 0., 1., 0., 0.],\n",
       "       [0., 0., 0., 0., 0., 0., 0., 0., 1., 0.],\n",
       "       [0., 0., 0., 0., 0., 0., 0., 0., 0., 1.]])"
      ]
     },
     "execution_count": 31,
     "metadata": {},
     "output_type": "execute_result"
    }
   ],
   "source": [
    "ide"
   ]
  },
  {
   "cell_type": "code",
   "execution_count": 32,
   "id": "e43ca533-686a-44db-85ba-d7360063f10e",
   "metadata": {},
   "outputs": [
    {
     "data": {
      "text/plain": [
       "(10, 10)"
      ]
     },
     "execution_count": 32,
     "metadata": {},
     "output_type": "execute_result"
    }
   ],
   "source": [
    "ide.shape"
   ]
  },
  {
   "cell_type": "markdown",
   "id": "5820a2b7-20d2-44e3-9732-82ea030bf759",
   "metadata": {},
   "source": [
    "# *** 2 D Array ***"
   ]
  },
  {
   "cell_type": "code",
   "execution_count": 39,
   "id": "9b84a7e3-c431-46f5-8207-bac3bd4721d5",
   "metadata": {},
   "outputs": [],
   "source": [
    "my_arr = [[13,12,1991,42],[4,12,1989,65],[16,8,2006,78],[6,11,2007,89]]"
   ]
  },
  {
   "cell_type": "code",
   "execution_count": 40,
   "id": "0dd1befd-9665-4760-950d-e3ed136135d2",
   "metadata": {},
   "outputs": [],
   "source": [
    "arr = np.array(my_arr)"
   ]
  },
  {
   "cell_type": "code",
   "execution_count": 41,
   "id": "ea458e75-c2c6-482b-b674-f7cdf4ae750e",
   "metadata": {},
   "outputs": [
    {
     "data": {
      "text/plain": [
       "array([[  13,   12, 1991,   42],\n",
       "       [   4,   12, 1989,   65],\n",
       "       [  16,    8, 2006,   78],\n",
       "       [   6,   11, 2007,   89]])"
      ]
     },
     "execution_count": 41,
     "metadata": {},
     "output_type": "execute_result"
    }
   ],
   "source": [
    "arr"
   ]
  },
  {
   "cell_type": "code",
   "execution_count": 42,
   "id": "0b591c40-609f-41b4-aeec-15347a2e6593",
   "metadata": {},
   "outputs": [
    {
     "data": {
      "text/plain": [
       "array([2058, 2070, 2108, 2113])"
      ]
     },
     "execution_count": 42,
     "metadata": {},
     "output_type": "execute_result"
    }
   ],
   "source": [
    "arr.sum(axis=1)"
   ]
  },
  {
   "cell_type": "code",
   "execution_count": 43,
   "id": "635f2fec-3e10-4c03-be6d-7d1593b6d85b",
   "metadata": {},
   "outputs": [
    {
     "data": {
      "text/plain": [
       "array([  39,   43, 7993,  274])"
      ]
     },
     "execution_count": 43,
     "metadata": {},
     "output_type": "execute_result"
    }
   ],
   "source": [
    "arr.sum(axis=0)"
   ]
  },
  {
   "cell_type": "code",
   "execution_count": 45,
   "id": "ce571f54-6107-48ba-bb35-3ffc68ca003d",
   "metadata": {},
   "outputs": [
    {
     "name": "stdout",
     "output_type": "stream",
     "text": [
      "13\n",
      "12\n",
      "1991\n",
      "42\n",
      "4\n",
      "12\n",
      "1989\n",
      "65\n",
      "16\n",
      "8\n",
      "2006\n",
      "78\n",
      "6\n",
      "11\n",
      "2007\n",
      "89\n"
     ]
    }
   ],
   "source": [
    "for x in arr.flat:\n",
    "    print(x)"
   ]
  },
  {
   "cell_type": "code",
   "execution_count": 46,
   "id": "e4aa5f6a-64cb-4b15-b903-6790025e19d0",
   "metadata": {},
   "outputs": [
    {
     "data": {
      "text/plain": [
       "64"
      ]
     },
     "execution_count": 46,
     "metadata": {},
     "output_type": "execute_result"
    }
   ],
   "source": [
    "arr.nbytes"
   ]
  },
  {
   "cell_type": "code",
   "execution_count": 47,
   "id": "7a954531-8bec-45d9-a7a6-845cbe916881",
   "metadata": {},
   "outputs": [
    {
     "data": {
      "text/plain": [
       "2"
      ]
     },
     "execution_count": 47,
     "metadata": {},
     "output_type": "execute_result"
    }
   ],
   "source": [
    "arr.ndim"
   ]
  },
  {
   "cell_type": "markdown",
   "id": "7a2a81f3-2fff-4cb4-bddf-d2549c59a47b",
   "metadata": {},
   "source": [
    "** One Dimension Array ** "
   ]
  },
  {
   "cell_type": "code",
   "execution_count": 48,
   "id": "988f5bda-37dc-43a9-8859-8f856c4d46f5",
   "metadata": {},
   "outputs": [],
   "source": [
    "my_one = np.array([12,23,1,89,42,19,45])"
   ]
  },
  {
   "cell_type": "code",
   "execution_count": 49,
   "id": "10d4bbc7-7ac7-4995-ab74-2dbb07801def",
   "metadata": {},
   "outputs": [
    {
     "data": {
      "text/plain": [
       "array([12, 23,  1, 89, 42, 19, 45])"
      ]
     },
     "execution_count": 49,
     "metadata": {},
     "output_type": "execute_result"
    }
   ],
   "source": [
    "my_one"
   ]
  },
  {
   "cell_type": "code",
   "execution_count": 51,
   "id": "bd602bac-7445-4eb4-9f40-612b26d8f0ac",
   "metadata": {},
   "outputs": [
    {
     "data": {
      "text/plain": [
       "3"
      ]
     },
     "execution_count": 51,
     "metadata": {},
     "output_type": "execute_result"
    }
   ],
   "source": [
    "my_one.argmax()"
   ]
  },
  {
   "cell_type": "code",
   "execution_count": 52,
   "id": "ea2a4982-0268-4970-a554-25b7b6c2d329",
   "metadata": {},
   "outputs": [
    {
     "data": {
      "text/plain": [
       "2"
      ]
     },
     "execution_count": 52,
     "metadata": {},
     "output_type": "execute_result"
    }
   ],
   "source": [
    "my_one.argmin()"
   ]
  },
  {
   "cell_type": "code",
   "execution_count": 53,
   "id": "bc80d603-01fe-4fdb-9db2-95653fa78ef6",
   "metadata": {},
   "outputs": [
    {
     "data": {
      "text/plain": [
       "array([2, 0, 5, 1, 4, 6, 3], dtype=int64)"
      ]
     },
     "execution_count": 53,
     "metadata": {},
     "output_type": "execute_result"
    }
   ],
   "source": [
    "my_one.argsort()"
   ]
  },
  {
   "cell_type": "code",
   "execution_count": null,
   "id": "ab3bfeec-24e1-4176-8ff3-9d74ae055d15",
   "metadata": {},
   "outputs": [],
   "source": []
  }
 ],
 "metadata": {
  "kernelspec": {
   "display_name": "Python 3 (ipykernel)",
   "language": "python",
   "name": "python3"
  },
  "language_info": {
   "codemirror_mode": {
    "name": "ipython",
    "version": 3
   },
   "file_extension": ".py",
   "mimetype": "text/x-python",
   "name": "python",
   "nbconvert_exporter": "python",
   "pygments_lexer": "ipython3",
   "version": "3.11.2"
  }
 },
 "nbformat": 4,
 "nbformat_minor": 5
}
